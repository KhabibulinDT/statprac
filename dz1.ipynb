{
 "cells": [
  {
   "cell_type": "markdown",
   "metadata": {},
   "source": [
    "# Homework"
   ]
  },
  {
   "cell_type": "markdown",
   "metadata": {},
   "source": [
    "## Problem 1"
   ]
  },
  {
   "cell_type": "markdown",
   "metadata": {},
   "source": [
    "Make a tuple containing natural numbers, the square of which is a multiple of 3, 4, but not a multiple of 8 and not exceeding 12345."
   ]
  },
  {
   "cell_type": "code",
   "execution_count": 39,
   "metadata": {},
   "outputs": [
    {
     "name": "stdout",
     "output_type": "stream",
     "text": [
      "(6, 18, 30, 42, 54, 66, 78, 90, 102)\n"
     ]
    }
   ],
   "source": [
    "import math\n",
    "a = tuple() #create empty tuple\n",
    "for x in range(1, int(math.sqrt(12345))) : #hope that square < 12345 and not actual number\n",
    "    if x*x % 3 == 0 and x*x % 4 == 0 and x*x % 8 != 0 :\n",
    "        a = a + (x,)\n",
    "\n",
    "print(a)"
   ]
  },
  {
   "cell_type": "markdown",
   "metadata": {},
   "source": [
    "## Problem 2"
   ]
  },
  {
   "cell_type": "markdown",
   "metadata": {},
   "source": [
    "\n",
    "Write a function that takes a two-dimensional array and a string as input and returns an array rotated 90 degrees counterclockwise if the string 'left' was passed, and clockwise if the string 'right' was passed.\n",
    "\n",
    "Example for input: $\\begin{bmatrix} 1 & 2 & 3 \\\\ 4 & 5 & 6 \\\\ 7 & 8 & 9 \\end{bmatrix}$.\\\n",
    "If the string 'left' is passed, the function should return $\\begin{bmatrix} 3 & 6 & 9 \\\\ 2 & 5 & 8 \\\\ 1 & 4 & 7 \\end{bmatrix}$, and if the string 'right' is passed, the function should return $\\begin{bmatrix} 7 & 4 & 1 \\\\ 8 & 5 & 2 \\\\ 9 & 6 & 3 \\end{bmatrix}$."
   ]
  },
  {
   "cell_type": "code",
   "execution_count": 4,
   "metadata": {},
   "outputs": [
    {
     "name": "stdout",
     "output_type": "stream",
     "text": [
      "[[7, 4, 1], [8, 5, 2], [9, 6, 3]]\n"
     ]
    }
   ],
   "source": [
    "def RotateMatrix(Matrix, dir) :\n",
    "    rotatedMatrix = []\n",
    "    m = len(Matrix) #number of rows\n",
    "    if dir == 'left' :\n",
    "        rotatedMatrix = [[Matrix[j][len(Matrix[i]) - i - 1] for j in range(len(Matrix[i]))] for i in range(m)] #pu-pu-pu\n",
    "    if dir == 'right' :\n",
    "        rotatedMatrix = [[Matrix[len(Matrix[i]) - 1 - j][i] for j in range(len(Matrix[i]))] for i in range(m)] #same pu-pu-pu\n",
    "    return rotatedMatrix\n"
   ]
  },
  {
   "cell_type": "markdown",
   "metadata": {},
   "source": [
    "## Problem 3"
   ]
  },
  {
   "cell_type": "markdown",
   "metadata": {},
   "source": [
    "Write a function that takes a string as input and returns a dictionary containing the number of occurrences of each character in the string.\n",
    "\n",
    "Example for the string 'hello, world!': {'h': 1, 'e': 1, 'l': 3, 'o': 2, ',': 1, ' ': 1, 'w': 1, 'r': 1, 'd': 1, '!': 1}."
   ]
  },
  {
   "cell_type": "code",
   "execution_count": 6,
   "metadata": {},
   "outputs": [
    {
     "name": "stdout",
     "output_type": "stream",
     "text": [
      "{'h': 1, 'e': 1, 'l': 3, 'o': 2, ' ': 1, 'w': 1, 'r': 1, 'd': 1}\n"
     ]
    }
   ],
   "source": [
    "def function(str) :\n",
    "    dict = {}\n",
    "    for x in str :\n",
    "        if x not in dict : \n",
    "            dict[x] = 1 #add key\n",
    "        else :\n",
    "            dict[x] += 1 \n",
    "    return dict"
   ]
  },
  {
   "cell_type": "markdown",
   "metadata": {},
   "source": [
    "## Problem 4"
   ]
  },
  {
   "cell_type": "markdown",
   "metadata": {},
   "source": [
    "### Implementing a Library Management System\n",
    "\n",
    "#### Description\n",
    "\n",
    "You are required to design and implement a system for managing books and users in a library. The system should allow for the management of books (adding, deleting, searching by various criteria) and users (registration, deletion, searching), as well as tracking the history of interactions between them (issuing and returning books).\n",
    "\n",
    "#### Tasks\n",
    "\n",
    "1. **`Book` Class**:\n",
    "   - Attributes: title, author, year of publication, ISBN, number of copies.\n",
    "   - Methods: constructor, methods to get information about the book, method to change the number of copies (when issuing and returning books).\n",
    "\n",
    "2. **`User` Class**:\n",
    "   - Attributes: user name, library card number, list of borrowed books.\n",
    "   - Methods: constructor, methods for user registration, methods for adding and removing books from the borrowed list.\n",
    "\n",
    "3. **`Library` Class**:\n",
    "   - Attributes: list of books, list of users, transaction history (who, when, which book was borrowed and returned).\n",
    "   - Methods: constructor, methods for adding and deleting books and users, methods for issuing and returning books, searching for books and users by various criteria, method to display the transaction history.\n",
    "\n",
    "#### Assignment\n",
    "\n",
    "1. Implement the `Book`, `User`, and `Library` classes with the specified attributes and methods.\n",
    "2. Create several books and users, and add them to the library system.\n",
    "3. Implement scenarios for issuing books to users and their return.\n",
    "4. Display the transaction history to show how books were issued and returned.\n"
   ]
  },
  {
   "cell_type": "code",
   "execution_count": 41,
   "metadata": {},
   "outputs": [
    {
     "name": "stdout",
     "output_type": "stream",
     "text": [
      "Book 'Marketing' created\n",
      "Book 'Основы общей топологии' created\n",
      "User Khabibulin created\n",
      "User Izmestiev created\n",
      "Book 'Marketing' is added\n",
      "Book 'Основы общей топологии' is added\n",
      "Book Marketing is issued to Khabibulin\n",
      "Book Основы общей топологии is issued to Khabibulin\n",
      "Book Marketing is issued to Izmestiev\n",
      "Book Marketing is returned from Khabibulin\n",
      "['Book Marketing is issued to Khabibulin', 'Book Основы общей топологии is issued to Khabibulin', 'Book Marketing is issued to Izmestiev', 'Book Marketing is returned from Khabibulin']\n"
     ]
    }
   ],
   "source": [
    "class Book:\n",
    "    def __init__(self, title, author, year, ISBN, copies) :\n",
    "        self.title = title\n",
    "        self.author = author\n",
    "        self.year = year\n",
    "        self.ISBN = ISBN\n",
    "        self.copies = copies\n",
    "        print(f\"Book '{title}' created\")\n",
    "    \n",
    "    def display_info(self) :\n",
    "        return f\"{self.title} ({self.author}, {self.year}) - number of copies: {self.copies}, ISBN: {self.ISBN}\"\n",
    "    \n",
    "    def issue_book(self) :\n",
    "        if self.copies == 0 :\n",
    "            return False\n",
    "        else :\n",
    "            self.copies = self.copies - 1\n",
    "            return True\n",
    "    \n",
    "    def return_book(self) :\n",
    "        self.copies +=1\n",
    "    \n",
    "class User:\n",
    "    def __init__(self, name, card, books) :\n",
    "        self.name = name\n",
    "        self.card = card\n",
    "        self.books = books\n",
    "        print(f\"User {name} created\")\n",
    "\n",
    "    def take_book(self, book) :\n",
    "        self.books.append(book)\n",
    "\n",
    "    def return_book(self, book) :\n",
    "        self.books.remove(book)\n",
    "\n",
    "class Library:\n",
    "    def __init__(self, books, users, history) :\n",
    "        self.books = books\n",
    "        self.users = users\n",
    "        self.history = history\n",
    "\n",
    "    def add_user(self, user) :\n",
    "        if user in self.users :\n",
    "            print(f\"User is already registraded\")\n",
    "            return False\n",
    "        self.users.append(user)\n",
    "        print(f\"User {user.name} is registraded\")\n",
    "        return True\n",
    "    \n",
    "    def del_user(self, user) :\n",
    "        if user not in self.users :\n",
    "            print(f\"User is not registraded\")\n",
    "            return False\n",
    "        self.users.remove(user)\n",
    "        print(f\"User {user.name} is unregistraded\")\n",
    "        return True\n",
    "    \n",
    "    def add_book(self, book) :\n",
    "        if book in self.books :\n",
    "            print(f\"Book '{book.title}' is alreayd added\")\n",
    "            return False\n",
    "        self.books.append(book)\n",
    "        print(f\"Book '{book.title}' is added\")\n",
    "        return True\n",
    "    \n",
    "    def del_book(self, book) :\n",
    "        if book not in self.books :\n",
    "            print(f\"Book '{book.title}' is not added\")\n",
    "            return False\n",
    "        self.books.remove(book)\n",
    "        print(f\"Book '{book.title}' is deleted\")\n",
    "        return True\n",
    "    \n",
    "    def issue_book(self, book, user) :\n",
    "        if book in user.books :\n",
    "            print(f\"Can't issue book {book.title}\")\n",
    "            return False\n",
    "        if book.issue_book() == True :\n",
    "            user.take_book(book)\n",
    "            self.history.append(f\"Book {book.title} is issued to {user.name}\")\n",
    "            print(f\"Book {book.title} is issued to {user.name}\")\n",
    "            return True\n",
    "        print(f\"Can't issue book {book.title}\")\n",
    "        return False\n",
    "    \n",
    "    def return_book(self, book, user) :\n",
    "        if book not in user.books or book not in self.books:\n",
    "            print(f\"Can't return book {book.title}\")\n",
    "            return False\n",
    "        book.return_book()\n",
    "        user.return_book(book)\n",
    "        self.history.append(f\"Book {book.title} is returned from {user.name}\") \n",
    "        print(f\"Book {book.title} is returned from {user.name}\")\n",
    "        return True\n",
    "    \n",
    "    def display_history(self) :\n",
    "        print(self.history)\n",
    "\n",
    "book1 = Book('Marketing' ,'Philip Kotler', 1965, 'kot65', 5)\n",
    "book2 = Book('Основы общей топологии', 'Сипачева О.В.', 2024, 'sip24', 1)\n",
    "\n",
    "usr1 = User('Khabibulin', 'KDT1', [])\n",
    "usr2 = User('Izmestiev', 'IAA1', [])\n",
    "\n",
    "library = Library([], [], [])\n",
    "\n",
    "library.add_book(book1)\n",
    "library.add_book(book2)\n",
    "\n",
    "library.issue_book(book1, usr1)\n",
    "library.issue_book(book2, usr1)\n",
    "library.issue_book(book1, usr2)\n",
    "library.return_book(book1, usr1)\n",
    "library.display_history()"
   ]
  },
  {
   "cell_type": "markdown",
   "metadata": {},
   "source": [
    "## Problem 5*"
   ]
  },
  {
   "cell_type": "markdown",
   "metadata": {},
   "source": [
    "Explain why list `b` changes after the execution of the following code:\n",
    "\n",
    "```python\n",
    "a = [1, 2, 3]\n",
    "b = a\n",
    "a[0] = 4\n",
    "print(b)\n",
    "```"
   ]
  },
  {
   "cell_type": "markdown",
   "metadata": {},
   "source": [
    "> Write your answer in markdown cell after:"
   ]
  },
  {
   "cell_type": "markdown",
   "metadata": {},
   "source": [
    "Потому что \"a\" - это ссылка на [1, 2, 3], и при \"b = a\" мы получаем новую ссылку \"b\" на [1, 2, 3]."
   ]
  },
  {
   "cell_type": "markdown",
   "metadata": {},
   "source": [
    "## Problem 6*"
   ]
  },
  {
   "cell_type": "markdown",
   "metadata": {},
   "source": [
    "Let\n",
    "$$A = \\sum_{i=1}^{10000} \\frac{1}{i^2},\\quad B=\\sum_{i=10000}^{1} \\frac{1}{i^2}.$$\n",
    "Calculate the values of $A$ and $B$ and compare them. What do you observe? Explain why this happens. What is the best way to calculate the value of $\\sum\\limits_{i=1}^{10000} \\dfrac{1}{i^2}$?"
   ]
  },
  {
   "cell_type": "markdown",
   "metadata": {},
   "source": [
    "```python\n",
    "A, B = 0, 0\n",
    "for i in range(1,10001) :\n",
    "    A = A + 1/(i*i)\n",
    "for i in range(10000, 0, -1) :\n",
    "    B = B + 1/(i*i)\n",
    "print(A - B) #5.551115123125783e-15\n",
    "```\n",
    "Это связано с тем, что в компьютере числа хранятся с плавающей точкой, и при складывании большого количества чисел эта ошибка накапливается. Если сначала складывать большие дроби, а потом маленькие, ошибки округления будут накопливаться медленнее.\n",
    "\n",
    "Если же начинать с маленьких чисел, округления в ранних шагах могут потерять точность."
   ]
  }
 ],
 "metadata": {
  "kernelspec": {
   "display_name": "Python 3",
   "language": "python",
   "name": "python3"
  },
  "language_info": {
   "codemirror_mode": {
    "name": "ipython",
    "version": 3
   },
   "file_extension": ".py",
   "mimetype": "text/x-python",
   "name": "python",
   "nbconvert_exporter": "python",
   "pygments_lexer": "ipython3",
   "version": "3.9.6"
  }
 },
 "nbformat": 4,
 "nbformat_minor": 2
}
