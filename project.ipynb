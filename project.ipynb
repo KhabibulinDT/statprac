{
 "cells": [
  {
   "cell_type": "markdown",
   "metadata": {},
   "source": [
    "Проект будет основан на датасете Steam Games Dataset, в котором был произведен сбор данных об играх в Steam. Данные даны в виде csv-таблицы, среди столбцов которой:\n",
    "* Estimated owners - приблизительное количество владельцев\n",
    "\n",
    "* Peak CCU - пиковое количество одновременных игроков\n",
    "\n",
    "* Required age - минимальный возраст\n",
    "\n",
    "* Price - цена\n",
    "\n",
    "* Discount - скидка\n",
    "\n",
    "* DLC count - количество дополнений\n",
    "\n",
    "* About the game - описание игры\n",
    "\n",
    "* Supported languages - поддерживаемые языки\n",
    "\n",
    "* Full audio languages - языки с полной озвучкой\n",
    "\n",
    "* Reviews - отзывы\n",
    "\n",
    "* Header image - заглавное изображение\n",
    "\n",
    "* Metacritic score - оценка Metacritic\n",
    "\n",
    "* Metacritic url - ссылка на Metacritic\n",
    "\n",
    "* User score - пользовательская оценка\n",
    "\n",
    "* Score rank - рейтинг оценки\n",
    "\n",
    "* Achievements - достижения\n",
    "\n",
    "* Average playtime forever - среднее время игры (все время)\n",
    "\n",
    "* Average playtime two weeks - среднее время игры (2 недели)\n",
    "\n",
    "* Median playtime forever - медианное время игры (все время)\n",
    "\n",
    "* Median playtime two weeks - медианное время игры (2 недели)\n",
    "\n",
    "* Developers - разработчики\n",
    "\n",
    "* Publishers - издатели\n",
    "\n",
    "* Categories - категории\n",
    "\n",
    "* Genres - жанры\n",
    "\n",
    "* etc - и другие"
   ]
  },
  {
   "cell_type": "markdown",
   "metadata": {},
   "source": [
    "Вот ссылка на датасет: [Steam Games Dataset](https://www.kaggle.com/datasets/fronkongames/steam-games-dataset)"
   ]
  },
  {
   "cell_type": "markdown",
   "metadata": {},
   "source": [
    "Изначально будет произведен анализ данных, очистка и подготовка к задачам машинного обучения.\n",
    "Какие задачи будут поставлены?\n",
    "1) Задача регрессии - предсказание Estimated owners или Peak CCU по описанию игры, жанру, цене и дате выхода.\n",
    "\n",
    "2) Задача классификации - предсказание того, будет ли у игры Metacritic score > 75.\n",
    "\n",
    "3) Задача кластеризации - по поведению игроков: например, по Average playtime и Achievements."
   ]
  }
 ],
 "metadata": {
  "language_info": {
   "name": "python"
  }
 },
 "nbformat": 4,
 "nbformat_minor": 2
}
